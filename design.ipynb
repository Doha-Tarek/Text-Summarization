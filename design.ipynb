{
 "cells": [
  {
   "cell_type": "code",
   "execution_count": 1,
   "id": "b348710c",
   "metadata": {},
   "outputs": [],
   "source": [
    "import nltk\n",
    "import string\n",
    "from heapq import nlargest\n",
    "import matplotlib.pyplot as plt\n",
    "from wordcloud import WordCloud, STOPWORDS\n",
    "from rake_nltk import Rake"
   ]
  },
  {
   "cell_type": "code",
   "execution_count": 2,
   "id": "957ebe81",
   "metadata": {},
   "outputs": [],
   "source": [
    "def word_cloud(text):\n",
    "    WC=WordCloud(stopwords=STOPWORDS, background_color=\"white\").generate(text)\n",
    "    plt.figure(figsize=(15,10))\n",
    "    plt.imshow(WC)\n",
    "    plt.axis(\"off\")\n",
    "    plt.show()"
   ]
  },
  {
   "cell_type": "code",
   "execution_count": 3,
   "id": "dab9ac2e",
   "metadata": {},
   "outputs": [],
   "source": [
    "def keyword_extraction(text):\n",
    "    rk=Rake()\n",
    "    rk.extract_keywords_from_text(text)\n",
    "    freq = rk.get_word_frequency_distribution()\n",
    "    print(freq)"
   ]
  },
  {
   "cell_type": "code",
   "execution_count": 4,
   "id": "a78c020e",
   "metadata": {},
   "outputs": [],
   "source": [
    "def summarization(text):\n",
    "    # Remove Punctuations from text \n",
    "    nopuch = [char for char in text if char not in string.punctuation]\n",
    "    # Get text with no punctuation\n",
    "    nopuch=\"\".join(nopuch)\n",
    "    # Remove stopwords from text\n",
    "    process_text=[word for word in nopuch.split() if word.lower() not in nltk.corpus.stopwords.words('english')]\n",
    "    # Rank each word in (process_text) based on the occureance of it in the text\n",
    "    word_freq={}\n",
    "    for word in process_text:\n",
    "        if word not in word_freq:\n",
    "            word_freq[word]=1\n",
    "        else:\n",
    "            word_freq[word]=word_freq[word]+1\n",
    "    # Normalize word frequences\n",
    "    max_freq=max(word_freq.values())\n",
    "    for word in word_freq.keys():\n",
    "        word_freq[word]=(word_freq[word]/max_freq)\n",
    "        \n",
    "    # Sentence Segmentation\n",
    "    sent_list=nltk.sent_tokenize(text)\n",
    "    # Create Sentence frequency\n",
    "    sent_score={}\n",
    "    for sent in sent_list:\n",
    "        for word in nltk.word_tokenize(sent.lower()):\n",
    "            if word in word_freq.keys():\n",
    "                if sent not in sent_score.keys():\n",
    "                    sent_score[sent]=word_freq[word]\n",
    "                else:\n",
    "                    sent_score[sent]=sent_score[sent]+word_freq[word]\n",
    "    summary_sent=nlargest(3,sent_score, key=sent_score.get)\n",
    "    summary=\" \".join(summary_sent)\n",
    "    return summary"
   ]
  },
  {
   "cell_type": "code",
   "execution_count": 5,
   "id": "bafae402",
   "metadata": {},
   "outputs": [],
   "source": [
    "def run():\n",
    "    # Clear The text\n",
    "    my_text.delete(1.0, END)\n",
    "    \n",
    "    file_name = my_entry.get()\n",
    "    with open(file_name,\"r\", encoding=\"utf8\") as f:\n",
    "        text=f.read()\n",
    "        \n",
    "    print(\"Word Cloud Image\\n\")\n",
    "    word_cloud(text)\n",
    "    print(\"\\nKeyword Extraction\\n\")\n",
    "    keyword_extraction(text)\n",
    "    print(\"\\nSummarization\\n\")\n",
    "    summary = summarization(text)\n",
    "    \n",
    "    # Add definition to text box\n",
    "    my_text.insert(END, summary)\n",
    "    "
   ]
  },
  {
   "cell_type": "markdown",
   "id": "4ec9202e",
   "metadata": {},
   "source": [
    "# Design"
   ]
  },
  {
   "cell_type": "code",
   "execution_count": null,
   "id": "20192d7c",
   "metadata": {},
   "outputs": [],
   "source": [
    "\"\"\"from tkinter import *\n",
    "\n",
    "\n",
    "\n",
    "root = Tk()\n",
    "root.title('Text Summarization')\n",
    "\n",
    "root.geometry(\"570x500\")\n",
    "\n",
    "\n",
    "\n",
    "\n",
    "\n",
    "\n",
    "my_labelframe = LabelFrame(root, text=\"Enter File Name\")\n",
    "my_labelframe.pack(pady=20)\n",
    "\n",
    "my_entry = Entry(my_labelframe, font=(\"Helvetica\", 28))\n",
    "my_entry.grid(row=0, column=0, padx=10, pady=10)\n",
    "\n",
    "my_button = Button(my_labelframe, text=\"Summarize\", command = run)\n",
    "my_button.grid(row=0, column=1, padx=10)\n",
    "\n",
    "my_text = Text(root, height=20, width=65, wrap=WORD)\n",
    "my_text.pack(pady=10)\n",
    "\n",
    "\n",
    "root.mainloop() \"\"\""
   ]
  },
  {
   "cell_type": "code",
   "execution_count": null,
   "id": "eacdce5c",
   "metadata": {},
   "outputs": [],
   "source": [
    "from tkinter import *\n",
    "import customtkinter\n",
    "\n",
    "customtkinter.set_appearance_mode(\"dark\")  # Modes: system (default), light, dark\n",
    "customtkinter.set_default_color_theme(\"dark-blue\")  # Themes: blue (default), dark-blue, green\n",
    "\n",
    "\n",
    "\n",
    "root = customtkinter.CTk()\n",
    "root.title('Text Summarization')\n",
    "\n",
    "root.geometry(\"620x470\")\n",
    "\n",
    "\n",
    "\n",
    "\n",
    "\n",
    "\n",
    "my_labelframe = customtkinter.CTkFrame(root, corner_radius=10)\n",
    "my_labelframe.pack(pady=20)\n",
    "\n",
    "my_entry = customtkinter.CTkEntry(my_labelframe, width = 400 , height = 40 , border_width=1 , placeholder_text=\"File Path\" , text_color = 'silver')\n",
    "my_entry.grid(row=0, column=0, padx=10, pady=10)\n",
    "\n",
    "my_button = customtkinter.CTkButton(my_labelframe, text=\"Summarize\" , command = run)\n",
    "my_button.grid(row=0, column=1, padx=10)\n",
    "\n",
    "text_frame = customtkinter.CTkFrame(root, corner_radius=10)\n",
    "text_frame.pack(pady=10)\n",
    "\n",
    "my_text = Text(text_frame, height=20, width=68, wrap=WORD , bd=0 , bg = \"#292929\" , fg=\"silver\")\n",
    "my_text.pack(pady=10 , padx = 10)\n",
    "\n",
    "\n",
    "root.mainloop()"
   ]
  },
  {
   "cell_type": "code",
   "execution_count": null,
   "id": "00076ba3",
   "metadata": {},
   "outputs": [],
   "source": []
  }
 ],
 "metadata": {
  "kernelspec": {
   "display_name": "Python 3",
   "language": "python",
   "name": "python3"
  },
  "language_info": {
   "codemirror_mode": {
    "name": "ipython",
    "version": 3
   },
   "file_extension": ".py",
   "mimetype": "text/x-python",
   "name": "python",
   "nbconvert_exporter": "python",
   "pygments_lexer": "ipython3",
   "version": "3.8.8"
  }
 },
 "nbformat": 4,
 "nbformat_minor": 5
}
